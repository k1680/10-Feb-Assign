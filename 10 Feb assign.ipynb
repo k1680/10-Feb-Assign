{
 "cells": [
  {
   "cell_type": "code",
   "execution_count": 1,
   "id": "c6819fee-b2b4-4cff-97f8-959e8a60f9b8",
   "metadata": {},
   "outputs": [
    {
     "data": {
      "text/plain": [
       "\"Ans: We use open() function to open a file it takes two parameter filname and mode.\\n        The different modes of opening a file are:\\n        1. 'r' - Read - Default value. Opens a file for reading, error if the file does not exist\\n        2. 'a' - Append - Opens a file for appending, creates the file if it does not exist\\n        3. 'w' - Write - Opens a file for writing, creates the file if it does not exist\\n        4. 'x' - Create - Creates the specified file, returns an error if the file exists\\n        5. 'b' - Binary - Binary mode (e.g. images)\\n\""
      ]
     },
     "execution_count": 1,
     "metadata": {},
     "output_type": "execute_result"
    }
   ],
   "source": [
    "\"\"\"Q1. Which function is used to open a file? What are the different modes of opening a file? Explain each mode of file opening.\"\"\"\n",
    "\n",
    "\"\"\"Ans: We use open() function to open a file it takes two parameter filname and mode.\n",
    "        The different modes of opening a file are:\n",
    "        1. 'r' - Read - Default value. Opens a file for reading, error if the file does not exist\n",
    "        2. 'a' - Append - Opens a file for appending, creates the file if it does not exist\n",
    "        3. 'w' - Write - Opens a file for writing, creates the file if it does not exist\n",
    "        4. 'x' - Create - Creates the specified file, returns an error if the file exists\n",
    "        5. 'b' - Binary - Binary mode (e.g. images)\n",
    "\"\"\""
   ]
  },
  {
   "cell_type": "code",
   "execution_count": 2,
   "id": "7c4856f0-30ef-4ae2-8ed8-21ec13a53cf1",
   "metadata": {},
   "outputs": [
    {
     "data": {
      "text/plain": [
       "'Ans: The close () function closes the connection between the program and an open file identified by a handle.\\n        Closing a file is always necessary when dealing with files, it is not a good idea to leave open file handles all over the place. \\n        They will eventually be closed when the file object is garbage collected but you do not know when that will be and \\n        in the mean time you will be wasting system resources by holding to file handles you no longer need.\\n'"
      ]
     },
     "execution_count": 2,
     "metadata": {},
     "output_type": "execute_result"
    }
   ],
   "source": [
    "\"\"\"Q2. Why close() function is used? Why is it important to close a file?\"\"\"\n",
    "\n",
    "\"\"\"Ans: The close () function closes the connection between the program and an open file identified by a handle.\n",
    "        Closing a file is always necessary when dealing with files, it is not a good idea to leave open file handles all over the place. \n",
    "        They will eventually be closed when the file object is garbage collected but you do not know when that will be and \n",
    "        in the mean time you will be wasting system resources by holding to file handles you no longer need.\n",
    "\"\"\""
   ]
  },
  {
   "cell_type": "code",
   "execution_count": 9,
   "id": "4db498aa-0f58-4161-ba91-55bffa551119",
   "metadata": {},
   "outputs": [],
   "source": [
    "\"\"\"Q3. Write a python program to create a text file. Write ‘I want to become a Data Scientist’ in that file. Then close the file. \n",
    "        Open this file and read the content of the file.\"\"\"\n",
    "\n",
    "# Ans: \n",
    "import logging\n",
    "logging.basicConfig(filename = 'test.log', level = logging.INFO)\n",
    "\n",
    "with open(\"text3.txt\", 'w') as file:\n",
    "    file.write(\"I want to become a Data Scientist\")\n",
    "    \n",
    "with open('text3.txt', 'r') as file2:\n",
    "    data = file2.read()\n",
    "    logging.info(data)\n",
    "\n",
    "logging.shutdown()\n"
   ]
  },
  {
   "cell_type": "code",
   "execution_count": 10,
   "id": "4d4f7c6b-6d8a-48f6-850f-576178368c39",
   "metadata": {},
   "outputs": [],
   "source": [
    "\"\"\"Q4. Explain the following with python code: read(), readline() and readlines().\"\"\"\n",
    "\n",
    "# Ans:\n",
    "import logging\n",
    "logging.basicConfig(filename = \"test.log\", level = logging.INFO)\n",
    "\n",
    "\n",
    "with open(\"text4.txt\", 'w') as file:\n",
    "    file.write(\"I want to learn Machine Learning in this year\\n\")\n",
    "    file.write(\"I want to get a good intership in this year\\n\")\n",
    "    file.write(\"I want to become a data scientist\")\n",
    "    \n",
    "with open(\"text4.txt\", 'r') as file:\n",
    "    data1 = file.read()\n",
    "    logging.info(data1)\n",
    "    \n",
    "with open(\"text4.txt\", 'r') as file: \n",
    "    data2 = file.readline()\n",
    "    logging.info(data2)  \n",
    "    \n",
    "with open(\"text4.txt\", 'r') as file:\n",
    "    data3 = file.readlines()\n",
    "    logging.info(data3)\n",
    "    \n",
    "logging.shutdown()"
   ]
  },
  {
   "cell_type": "code",
   "execution_count": 11,
   "id": "7161c2fb-7d41-41d2-8d8c-767657c3343f",
   "metadata": {},
   "outputs": [
    {
     "data": {
      "text/plain": [
       "'Ans: Benefits of calling open () using “with statement” Fewer chances of bug due to coding error No need to explicitly \\n        close the opened file, “with statement” takes care of that. When with the block ends, it will automatically close the file.\\n'"
      ]
     },
     "execution_count": 11,
     "metadata": {},
     "output_type": "execute_result"
    }
   ],
   "source": [
    "\"\"\"Q5. Explain why with statement is used with open(). What is the advantage of using with statement and open() together?\"\"\"\n",
    "\n",
    "\"\"\"Ans: Benefits of calling open () using “with statement” Fewer chances of bug due to coding error No need to explicitly \n",
    "        close the opened file, “with statement” takes care of that. When with the block ends, it will automatically close the file.\n",
    "\"\"\""
   ]
  },
  {
   "cell_type": "code",
   "execution_count": 12,
   "id": "aa892228-c070-4f71-a1b7-d22522abf8fb",
   "metadata": {},
   "outputs": [
    {
     "data": {
      "text/plain": [
       "'Both of the above will give same output after execution'"
      ]
     },
     "execution_count": 12,
     "metadata": {},
     "output_type": "execute_result"
    }
   ],
   "source": [
    "\"\"\"Q6. Explain the write() and writelines() functions. Give a suitable example.\"\"\"\n",
    "\n",
    "\"\"\"Ans: The write() function will write the content in the file without adding any extra characters.\n",
    "        The writeline() function writes the content of a list to a file.\n",
    "\"\"\"\n",
    "\n",
    "# By using write()\n",
    "\n",
    "with open(\"text5.txt\", 'w') as file:\n",
    "    file.write('Karan')\n",
    "    file.write('Thakkar')\n",
    "    file.write('Data Scientist')\n",
    "    \n",
    "# By using writelines()\n",
    "\n",
    "with open(\"text6.txt\", 'w') as file:\n",
    "    data = ['Karan', 'Thakkar', 'Data Scientist']\n",
    "    file.writelines(data)\n",
    "    \n",
    "\"\"\"Both of the above will give same output after execution\"\"\""
   ]
  },
  {
   "cell_type": "code",
   "execution_count": null,
   "id": "3ab56792-895d-4c00-94b2-0f3d6db0e8f3",
   "metadata": {},
   "outputs": [],
   "source": []
  }
 ],
 "metadata": {
  "kernelspec": {
   "display_name": "Python 3 (ipykernel)",
   "language": "python",
   "name": "python3"
  },
  "language_info": {
   "codemirror_mode": {
    "name": "ipython",
    "version": 3
   },
   "file_extension": ".py",
   "mimetype": "text/x-python",
   "name": "python",
   "nbconvert_exporter": "python",
   "pygments_lexer": "ipython3",
   "version": "3.10.8"
  }
 },
 "nbformat": 4,
 "nbformat_minor": 5
}
